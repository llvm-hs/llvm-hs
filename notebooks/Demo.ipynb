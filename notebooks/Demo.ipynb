{
 "cells": [
  {
   "cell_type": "markdown",
   "metadata": {},
   "source": [
    "# Instructions\n",
    "If you would like to run this notebook locally, you need to have [IHaskell](https://github.com/gibiansky/IHaskell) installed and configured properly.  One way to achieve this is to use [`stack notebook`](https://github.com/habemus-papadum/stack-notebook).  For instance, some variant of the following (very pedantic) steps should get you started:\n",
    "\n",
    "```bash\n",
    "\n",
    "#install stack-notebook\n",
    "git clone https://github.com/habemus-papadum/stack-notebook\n",
    "export PATH=${PWD}/stack-notebook:${PATH}\n",
    "\n",
    "git clone https://github.com/habemus-papadum/llvm-hs \n",
    "cd llvm-hs  \n",
    "stack build --fast\n",
    "stack notebook\n",
    "\n",
    "```"
   ]
  },
  {
   "cell_type": "code",
   "execution_count": 1,
   "metadata": {
    "collapsed": true
   },
   "outputs": [],
   "source": [
    "{-# LANGUAGE OverloadedStrings #-}\n",
    "\n",
    "import LLVM.AST\n",
    "import qualified LLVM.AST as AST\n",
    "import LLVM.AST.Global\n",
    "import LLVM.Context\n",
    "import LLVM.Module\n",
    "\n",
    "import Control.Monad.Except\n",
    "import qualified Data.ByteString.Char8 as BS\n"
   ]
  },
  {
   "cell_type": "code",
   "execution_count": 2,
   "metadata": {},
   "outputs": [],
   "source": [
    "int :: Type\n",
    "int = IntegerType 32\n",
    "\n",
    "defAdd :: Definition\n",
    "defAdd = GlobalDefinition functionDefaults\n",
    "  { name = Name \"add\"\n",
    "  , parameters =\n",
    "      ( [ Parameter int (Name \"a\") []\n",
    "        , Parameter int (Name \"b\") [] ]\n",
    "      , False )\n",
    "  , returnType = int\n",
    "  , basicBlocks = [body]\n",
    "  }\n",
    "  where\n",
    "    body = BasicBlock\n",
    "        (Name \"entry\")\n",
    "        [ Name \"result\" :=\n",
    "            Add False  -- no signed wrap\n",
    "                False  -- no unsigned wrap\n",
    "                (LocalReference int (Name \"a\"))\n",
    "                (LocalReference int (Name \"b\"))\n",
    "                []]\n",
    "        (Do $ Ret (Just (LocalReference int (Name \"result\"))) [])\n",
    "\n",
    "\n",
    "module_ :: AST.Module\n",
    "module_ = defaultModule\n",
    "  { moduleName = \"basic\"\n",
    "  , moduleDefinitions = [defAdd]\n",
    "  }\n",
    "\n",
    "\n",
    "\n",
    "\n"
   ]
  },
  {
   "cell_type": "code",
   "execution_count": 3,
   "metadata": {
    "collapsed": true
   },
   "outputs": [],
   "source": [
    "toLLVM :: AST.Module -> IO ()\n",
    "toLLVM mod = withContext $ \\ctx -> do\n",
    "  llvm <- withModuleFromAST ctx mod moduleLLVMAssembly\n",
    "  BS.putStrLn llvm"
   ]
  },
  {
   "cell_type": "code",
   "execution_count": 4,
   "metadata": {},
   "outputs": [
    {
     "data": {
      "text/plain": [
       "; ModuleID = 'basic'\n",
       "source_filename = \"<string>\"\n",
       "\n",
       "define i32 @add(i32 %a, i32 %b) {\n",
       "entry:\n",
       "  %result = add i32 %a, %b\n",
       "  ret i32 %result\n",
       "}"
      ]
     },
     "metadata": {},
     "output_type": "display_data"
    }
   ],
   "source": [
    "toLLVM module_"
   ]
  },
  {
   "cell_type": "code",
   "execution_count": 5,
   "metadata": {
    "collapsed": true
   },
   "outputs": [],
   "source": [
    "import LLVM.Target\n",
    "import LLVM.OrcJIT\n",
    "import LLVM.AST.Constant\n",
    "\n",
    "\n",
    "import Data.Int\n",
    "import Data.Word\n",
    "import Foreign.Ptr"
   ]
  },
  {
   "cell_type": "code",
   "execution_count": 9,
   "metadata": {},
   "outputs": [],
   "source": [
    "foreign import ccall \"dynamic\"\n",
    "  mkMain :: FunPtr (IO Int32) -> IO Int32\n",
    "\n",
    "int :: Type\n",
    "int = IntegerType 32\n",
    "\n",
    "defAdd :: Definition\n",
    "defAdd = GlobalDefinition functionDefaults\n",
    "  { name = Name \"add\"\n",
    "  , parameters = ( [] , False )\n",
    "  , returnType = int\n",
    "  , basicBlocks = [body]\n",
    "  }\n",
    "  where\n",
    "    body = BasicBlock\n",
    "        (Name \"entry\")\n",
    "        []\n",
    "        (Do $ Ret (Just (ConstantOperand (Int 32 42))) [])\n",
    "\n",
    "\n",
    "module_ :: AST.Module\n",
    "module_ = defaultModule\n",
    "  { moduleName = \"basic\"\n",
    "  , moduleDefinitions = [defAdd]\n",
    "  }\n",
    "\n",
    "withTestModule :: AST.Module -> (LLVM.Module.Module -> IO a) -> IO a\n",
    "withTestModule mod f = withContext $ \\context -> withModuleFromAST context mod f\n",
    "\n",
    "resolver :: MangledSymbol -> IRCompileLayer l -> MangledSymbol -> IO JITSymbol\n",
    "resolver testFunc compileLayer symbol\n",
    "  = findSymbol compileLayer symbol True\n",
    "\n",
    "nullResolver :: MangledSymbol -> IO JITSymbol\n",
    "nullResolver s = return (JITSymbol 0 (JITSymbolFlags False False))\n",
    "\n",
    "failInIO :: ExceptT String IO a -> IO a\n",
    "failInIO = either fail return <=< runExceptT\n",
    "\n",
    "eagerJit :: AST.Module -> IO Int32\n",
    "eagerJit amod =\n",
    "    withTestModule amod $ \\mod ->\n",
    "      withHostTargetMachine $ \\tm ->\n",
    "        withObjectLinkingLayer $ \\objectLayer ->\n",
    "          withIRCompileLayer objectLayer tm $ \\compileLayer -> do\n",
    "            asm <- moduleLLVMAssembly mod\n",
    "            -- BS.putStrLn asm\n",
    "            testFunc <- mangleSymbol compileLayer \"add\"\n",
    "            withModule\n",
    "              compileLayer\n",
    "              mod\n",
    "              (SymbolResolver (resolver testFunc compileLayer) nullResolver) $\n",
    "              \\moduleSet -> do\n",
    "                mainSymbol <- mangleSymbol compileLayer \"add\"\n",
    "                JITSymbol mainFn _ <- findSymbol compileLayer mainSymbol True\n",
    "                result <- mkMain (castPtrToFunPtr (wordPtrToPtr mainFn))\n",
    "                return result\n"
   ]
  },
  {
   "cell_type": "code",
   "execution_count": 10,
   "metadata": {},
   "outputs": [
    {
     "data": {
      "text/plain": [
       "42"
      ]
     },
     "metadata": {},
     "output_type": "display_data"
    }
   ],
   "source": [
    "eagerJit module_"
   ]
  },
  {
   "cell_type": "code",
   "execution_count": null,
   "metadata": {
    "collapsed": true
   },
   "outputs": [],
   "source": []
  }
 ],
 "metadata": {
  "kernelspec": {
   "display_name": "llvm-hs-lts-9.1",
   "language": "Haskell",
   "name": "llvm-hs-lts-9.1"
  },
  "language_info": {
   "codemirror_mode": "ihaskell",
   "file_extension": ".hs",
   "name": "haskell",
   "version": "8.0.2"
  }
 },
 "nbformat": 4,
 "nbformat_minor": 2
}
